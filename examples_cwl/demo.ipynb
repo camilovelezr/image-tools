{
 "cells": [
  {
   "attachments": {},
   "cell_type": "markdown",
   "metadata": {},
   "source": [
    "# CWL in Polus-Plugins and Polus-Pipelines"
   ]
  },
  {
   "attachments": {},
   "cell_type": "markdown",
   "metadata": {},
   "source": [
    "### Definitions\n",
    "* CWL: standards to *describe* tools and workflows to make them easily **portable** and **scalable**\n",
    "* CommandLineTool(CTL): a *job*. In our case, a description of a Plugin\n",
    "* Workflow: a group of CommandLineTools connected"
   ]
  },
  {
   "attachments": {},
   "cell_type": "markdown",
   "metadata": {},
   "source": [
    "### Two Objectives:\n",
    "1. Create a single CommandLineTool (single job) for each plugin to be run using CWL (`polus-plugins`)\n",
    "2. Once there is a CommandLineTool for each plugin in a workflow, create a CWL Workflow to run them all (`polus-pipelines`)"
   ]
  },
  {
   "attachments": {},
   "cell_type": "markdown",
   "metadata": {},
   "source": [
    "## Limitations"
   ]
  },
  {
   "attachments": {},
   "cell_type": "markdown",
   "metadata": {},
   "source": [
    "## 1. Output paths can *only* be relative paths"
   ]
  },
  {
   "attachments": {},
   "cell_type": "markdown",
   "metadata": {},
   "source": [
    "`outDir` can only be a relative path\n",
    "\n",
    "Relative to: current working directory when running script"
   ]
  },
  {
   "cell_type": "code",
   "execution_count": 2,
   "metadata": {},
   "outputs": [
    {
     "name": "stdout",
     "output_type": "stream",
     "text": [
      "/Users/camilovelezr/polus-plugins/examples_cwl\n"
     ]
    }
   ],
   "source": [
    "! pwd"
   ]
  },
  {
   "attachments": {},
   "cell_type": "markdown",
   "metadata": {},
   "source": [
    "Only directory name matters"
   ]
  },
  {
   "cell_type": "code",
   "execution_count": 4,
   "metadata": {},
   "outputs": [
    {
     "name": "stdout",
     "output_type": "stream",
     "text": [
      "\u001b[1m\u001b[36mS1_R1_C1-C11_A1_y005_x008_c000.ome.zarr\u001b[m\u001b[m \u001b[1m\u001b[36mS1_R1_C1-C11_A1_y005_x008_c003.ome.zarr\u001b[m\u001b[m\n",
      "\u001b[1m\u001b[36mS1_R1_C1-C11_A1_y005_x008_c001.ome.zarr\u001b[m\u001b[m \u001b[1m\u001b[36mS1_R1_C1-C11_A1_y005_x008_c004.ome.zarr\u001b[m\u001b[m\n",
      "\u001b[1m\u001b[36mS1_R1_C1-C11_A1_y005_x008_c002.ome.zarr\u001b[m\u001b[m\n"
     ]
    }
   ],
   "source": [
    "# p.outDir = \"/Users/camilovelezr/cwl_io/output\"\n",
    "! ls ./output"
   ]
  },
  {
   "attachments": {},
   "cell_type": "markdown",
   "metadata": {},
   "source": [
    "### Solution\n",
    "* Make it explicit and *very clear* that when setting up the output directory of CLT, the `outDir` path **has to** be a relative path.\n",
    "\n",
    "* *Even if outDir in plugin object is absolute, e.g `plugin.outDir = \"/home/camilovelezr/axle/zarroutput\"` only `zarroutput` will matter*\n",
    "\n",
    "* Warning users if absolute path is passed"
   ]
  },
  {
   "attachments": {},
   "cell_type": "markdown",
   "metadata": {},
   "source": [
    "## 2. `Entrypoint` cannot be used"
   ]
  },
  {
   "attachments": {},
   "cell_type": "markdown",
   "metadata": {},
   "source": [
    "From Basic Flatfield Correction Plugin Dockerfile:\n",
    "```\n",
    "...\n",
    "# Default command. Additional arguments are provided through the command line\n",
    "ENTRYPOINT [\"python3\", \"main.py\"]\n",
    "```"
   ]
  },
  {
   "attachments": {},
   "cell_type": "markdown",
   "metadata": {},
   "source": [
    "CWL defines a new working directory with a random name for each container it runs. Then it tries to run `main.py` in that working directory. However, `main.py` is not there since this working directory is new and only has been filled by CWL."
   ]
  },
  {
   "attachments": {},
   "cell_type": "markdown",
   "metadata": {},
   "source": [
    "```\n",
    "29-Nov-22 12:28:48 - cwltool  - INFO     - [job bfc.cwl] ... docker \\\n",
    "    run \\\n",
    "    -i \\\n",
    "    --mount=type=bind,source=/private/var/folders/fq/3xjy8gl17c7d1_j25xvpltz80000gn/T/3qvk72rb,target=/EnKELa \\\n",
    "    --workdir=/EnKELa \\\n",
    "```"
   ]
  },
  {
   "attachments": {},
   "cell_type": "markdown",
   "metadata": {},
   "source": [
    "```\n",
    "/usr/bin/python3: can't open file '/EnKELa/main.py': [Errno 2] No such file or directory\n",
    "```"
   ]
  },
  {
   "attachments": {},
   "cell_type": "markdown",
   "metadata": {},
   "source": [
    "**Entrypoint cannot be overridden**"
   ]
  },
  {
   "attachments": {},
   "cell_type": "markdown",
   "metadata": {},
   "source": [
    "From OME Zarr Converter Compute Dockerfile\n",
    "```\n",
    "...\n",
    "CMD [\"python3\", \"/opt/executables/main.py\"] -> BaseCommand instead of Entrypoint\n",
    "```"
   ]
  },
  {
   "attachments": {},
   "cell_type": "markdown",
   "metadata": {},
   "source": [
    "BaseCommand can be specified to CWL - *can be overridden* - and it's part of the new WIPP Plugin Schema! In this case, it also uses an **absolute** path instead of a relative path for the script"
   ]
  },
  {
   "attachments": {},
   "cell_type": "markdown",
   "metadata": {},
   "source": [
    "### Solution\n",
    "1. Use `CMD` instead of `ENTRYPOINT` and use absolute paths. Include `CMD` in `plugin.json` as Base Command. Tested, it works.\n",
    "2. Keep using `ENTRYPOINT` but only with absolute paths. Not part of current schema. Not tested, may work"
   ]
  }
 ],
 "metadata": {
  "kernelspec": {
   "display_name": "nrel",
   "language": "python",
   "name": "python3"
  },
  "language_info": {
   "codemirror_mode": {
    "name": "ipython",
    "version": 3
   },
   "file_extension": ".py",
   "mimetype": "text/x-python",
   "name": "python",
   "nbconvert_exporter": "python",
   "pygments_lexer": "ipython3",
   "version": "3.9.13"
  },
  "orig_nbformat": 4,
  "vscode": {
   "interpreter": {
    "hash": "358e8bb34e4a926f2160c1ea6238a056ed4a3e4992ebd8af13bd4fe1eaf4ec2c"
   }
  }
 },
 "nbformat": 4,
 "nbformat_minor": 2
}
